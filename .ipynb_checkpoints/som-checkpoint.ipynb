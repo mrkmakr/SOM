{
 "cells": [
  {
   "cell_type": "code",
   "execution_count": 1,
   "metadata": {
    "collapsed": true
   },
   "outputs": [],
   "source": [
    "import numpy as np\n",
    "import matplotlib.pyplot as plt\n",
    "import matplotlib.animation as animation\n",
    "from itertools import product\n",
    "#%matplotlib inline"
   ]
  },
  {
   "cell_type": "code",
   "execution_count": 2,
   "metadata": {
    "collapsed": true
   },
   "outputs": [],
   "source": [
    "field_size  = 30\n",
    "alpha = 0.2\n",
    "ite=10000\n",
    "nei = [-1,0,1]\n",
    "save_ite_every = 1000\n",
    "anime_ite_every = 10"
   ]
  },
  {
   "cell_type": "code",
   "execution_count": null,
   "metadata": {
    "collapsed": false
   },
   "outputs": [],
   "source": [
    "#init\n",
    "state = np.random.rand(field_size,field_size,3)\n",
    "state_rec = []\n",
    "ims = []\n",
    "fig = plt.figure(figsize=[5,5])\n",
    "#main loop\n",
    "for _ in range(ite):\n",
    "    if np.mod(_,anime_ite_every)==0:\n",
    "        #plot\n",
    "        img = plt.imshow(state,animated=True)\n",
    "        plt.axis('off')\n",
    "        plt.title(_)\n",
    "        ims.append([img])\n",
    "    if np.mod(_,save_ite_every)==0:\n",
    "        state_rec.append(np.copy(state))\n",
    "        print(_)\n",
    "    #sampling color\n",
    "    r = np.random.rand(3)\n",
    "    #calculate distance\n",
    "    d = np.sum((state - r)**2,axis=2)\n",
    "    #find most similar position\n",
    "    ind = np.where(d == np.min(d))\n",
    "    \n",
    "    #update\n",
    "    for h,w in product(nei,nei):\n",
    "        try:\n",
    "            state[ind[0][0] + h, ind[1][0] + w] = (1-alpha) * state[ind[0][0] +h, ind[1][0] + w] + alpha * r\n",
    "        except:\n",
    "            #avoid to go out of field\n",
    "            pass\n",
    "        \n",
    "ani = animation.ArtistAnimation(fig, ims)\n",
    "ani.save('som_animation.gif', writer=\"imagemagick\")\n",
    "plt.close()"
   ]
  },
  {
   "cell_type": "code",
   "execution_count": null,
   "metadata": {
    "collapsed": false
   },
   "outputs": [],
   "source": [
    "plt.figure(figsize=[25,10])\n",
    "for k in range(10):\n",
    "    plt.subplot(2,5,k+1)\n",
    "    plt.imshow(state_rec[k])\n",
    "    plt.axis('off')\n",
    "    plt.title(save_ite_every*k)\n",
    "plt.savefig('som.png')\n",
    "plt.show()"
   ]
  },
  {
   "cell_type": "code",
   "execution_count": 20,
   "metadata": {
    "collapsed": true
   },
   "outputs": [],
   "source": [
    "\n"
   ]
  },
  {
   "cell_type": "code",
   "execution_count": null,
   "metadata": {
    "collapsed": true
   },
   "outputs": [],
   "source": []
  }
 ],
 "metadata": {
  "kernelspec": {
   "display_name": "Python 3",
   "language": "python",
   "name": "python3"
  },
  "language_info": {
   "codemirror_mode": {
    "name": "ipython",
    "version": 3
   },
   "file_extension": ".py",
   "mimetype": "text/x-python",
   "name": "python",
   "nbconvert_exporter": "python",
   "pygments_lexer": "ipython3",
   "version": "3.6.0"
  }
 },
 "nbformat": 4,
 "nbformat_minor": 2
}
